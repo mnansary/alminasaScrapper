{
 "cells": [
  {
   "cell_type": "markdown",
   "metadata": {},
   "source": [
    "# Sort and store data bookwise"
   ]
  },
  {
   "cell_type": "code",
   "execution_count": 1,
   "metadata": {},
   "outputs": [],
   "source": [
    "data_dir=\"/home/ansary/work/hadith/alminasaScrapper/data/hadith_data\"\n",
    "save_dir=\"/home/ansary/work/hadith/alminasaScrapper/data/hadith_data_bookwise\""
   ]
  },
  {
   "cell_type": "code",
   "execution_count": 2,
   "metadata": {},
   "outputs": [
    {
     "name": "stderr",
     "output_type": "stream",
     "text": [
      "100%|██████████| 82596/82596 [00:00<00:00, 2787787.15it/s]\n",
      "100%|██████████| 82596/82596 [00:00<00:00, 319368.78it/s]\n"
     ]
    },
    {
     "data": {
      "text/html": [
       "<div>\n",
       "<style scoped>\n",
       "    .dataframe tbody tr th:only-of-type {\n",
       "        vertical-align: middle;\n",
       "    }\n",
       "\n",
       "    .dataframe tbody tr th {\n",
       "        vertical-align: top;\n",
       "    }\n",
       "\n",
       "    .dataframe thead th {\n",
       "        text-align: right;\n",
       "    }\n",
       "</style>\n",
       "<table border=\"1\" class=\"dataframe\">\n",
       "  <thead>\n",
       "    <tr style=\"text-align: right;\">\n",
       "      <th></th>\n",
       "      <th>file_paths</th>\n",
       "      <th>book_number</th>\n",
       "    </tr>\n",
       "  </thead>\n",
       "  <tbody>\n",
       "    <tr>\n",
       "      <th>0</th>\n",
       "      <td>/home/ansary/work/hadith/alminasaScrapper/data...</td>\n",
       "      <td>184</td>\n",
       "    </tr>\n",
       "    <tr>\n",
       "      <th>1</th>\n",
       "      <td>/home/ansary/work/hadith/alminasaScrapper/data...</td>\n",
       "      <td>158</td>\n",
       "    </tr>\n",
       "    <tr>\n",
       "      <th>2</th>\n",
       "      <td>/home/ansary/work/hadith/alminasaScrapper/data...</td>\n",
       "      <td>121</td>\n",
       "    </tr>\n",
       "    <tr>\n",
       "      <th>3</th>\n",
       "      <td>/home/ansary/work/hadith/alminasaScrapper/data...</td>\n",
       "      <td>158</td>\n",
       "    </tr>\n",
       "    <tr>\n",
       "      <th>4</th>\n",
       "      <td>/home/ansary/work/hadith/alminasaScrapper/data...</td>\n",
       "      <td>594</td>\n",
       "    </tr>\n",
       "    <tr>\n",
       "      <th>...</th>\n",
       "      <td>...</td>\n",
       "      <td>...</td>\n",
       "    </tr>\n",
       "    <tr>\n",
       "      <th>82591</th>\n",
       "      <td>/home/ansary/work/hadith/alminasaScrapper/data...</td>\n",
       "      <td>454</td>\n",
       "    </tr>\n",
       "    <tr>\n",
       "      <th>82592</th>\n",
       "      <td>/home/ansary/work/hadith/alminasaScrapper/data...</td>\n",
       "      <td>121</td>\n",
       "    </tr>\n",
       "    <tr>\n",
       "      <th>82593</th>\n",
       "      <td>/home/ansary/work/hadith/alminasaScrapper/data...</td>\n",
       "      <td>121</td>\n",
       "    </tr>\n",
       "    <tr>\n",
       "      <th>82594</th>\n",
       "      <td>/home/ansary/work/hadith/alminasaScrapper/data...</td>\n",
       "      <td>121</td>\n",
       "    </tr>\n",
       "    <tr>\n",
       "      <th>82595</th>\n",
       "      <td>/home/ansary/work/hadith/alminasaScrapper/data...</td>\n",
       "      <td>146</td>\n",
       "    </tr>\n",
       "  </tbody>\n",
       "</table>\n",
       "<p>82596 rows × 2 columns</p>\n",
       "</div>"
      ],
      "text/plain": [
       "                                              file_paths book_number\n",
       "0      /home/ansary/work/hadith/alminasaScrapper/data...         184\n",
       "1      /home/ansary/work/hadith/alminasaScrapper/data...         158\n",
       "2      /home/ansary/work/hadith/alminasaScrapper/data...         121\n",
       "3      /home/ansary/work/hadith/alminasaScrapper/data...         158\n",
       "4      /home/ansary/work/hadith/alminasaScrapper/data...         594\n",
       "...                                                  ...         ...\n",
       "82591  /home/ansary/work/hadith/alminasaScrapper/data...         454\n",
       "82592  /home/ansary/work/hadith/alminasaScrapper/data...         121\n",
       "82593  /home/ansary/work/hadith/alminasaScrapper/data...         121\n",
       "82594  /home/ansary/work/hadith/alminasaScrapper/data...         121\n",
       "82595  /home/ansary/work/hadith/alminasaScrapper/data...         146\n",
       "\n",
       "[82596 rows x 2 columns]"
      ]
     },
     "execution_count": 2,
     "metadata": {},
     "output_type": "execute_result"
    }
   ],
   "source": [
    "import pandas as pd \n",
    "import os \n",
    "import json \n",
    "from glob import glob\n",
    "from shutil import copy\n",
    "from tqdm import tqdm\n",
    "tqdm.pandas()\n",
    "\n",
    "file_paths=[f for f in tqdm(glob(os.path.join(data_dir,\"*.json\")))]\n",
    "df=pd.DataFrame({\"file_paths\":file_paths})\n",
    "df[\"book_number\"]=df.file_paths.progress_apply(lambda x: os.path.basename(x).split(\".\")[0].split(\"-\")[0])\n",
    "df"
   ]
  },
  {
   "cell_type": "code",
   "execution_count": 3,
   "metadata": {},
   "outputs": [
    {
     "name": "stderr",
     "output_type": "stream",
     "text": [
      "100%|██████████| 12/12 [00:12<00:00,  1.06s/it]\n"
     ]
    }
   ],
   "source": [
    "for book in tqdm(df.book_number.unique()):\n",
    "    bdf=df.loc[df.book_number==book]\n",
    "    paths=bdf.file_paths.tolist()\n",
    "    with open(paths[0],\"r\") as f:\n",
    "        data=json.load(f)\n",
    "    book=data['_source']['book_name']\n",
    "    os.makedirs(os.path.join(save_dir,book),exist_ok=True)\n",
    "    for _path in paths:\n",
    "        copy(_path,os.path.join(save_dir,book,os.path.basename(_path)))"
   ]
  },
  {
   "cell_type": "code",
   "execution_count": null,
   "metadata": {},
   "outputs": [],
   "source": []
  }
 ],
 "metadata": {
  "kernelspec": {
   "display_name": "alminasa",
   "language": "python",
   "name": "python3"
  },
  "language_info": {
   "codemirror_mode": {
    "name": "ipython",
    "version": 3
   },
   "file_extension": ".py",
   "mimetype": "text/x-python",
   "name": "python",
   "nbconvert_exporter": "python",
   "pygments_lexer": "ipython3",
   "version": "3.9.21"
  }
 },
 "nbformat": 4,
 "nbformat_minor": 2
}
